{
 "cells": [
  {
   "cell_type": "markdown",
   "id": "b4516799-e2d3-423a-9f32-d50b6f738d07",
   "metadata": {},
   "source": [
    "# **One Sample Z-Test**"
   ]
  },
  {
   "cell_type": "markdown",
   "id": "cca4d2b8-ed0c-4558-8409-ae519720e98d",
   "metadata": {},
   "source": [
    "Suppose an e-commerce platform receives an average of 100 visitors per day (known population mean). <br>\n",
    "We want to test if the average number of visitors for a recent sample of 40 days is significantly different from this known average. Verify the claim at significance level alpha = 0.05. <br>\n",
    "**• Null Hypothesis (HO):** The average number of visitors for the sample period is not significantly different from the population mean. I.e. Sample Mean = 100 <br>\n",
    "**• Alternative Hypothesis (HA):** The average number of visitors for the sample period is significantly different from the population average. ie Sample Mean ≠ 100"
   ]
  },
  {
   "cell_type": "code",
   "execution_count": 68,
   "id": "4380325c-36d8-41d2-ba07-7e1e1bab6518",
   "metadata": {},
   "outputs": [],
   "source": [
    "import numpy as np\n",
    "import pandas as pd\n",
    "from scipy import stats"
   ]
  },
  {
   "cell_type": "code",
   "execution_count": 69,
   "id": "a3a8031d-e563-405f-a395-546d52c49ade",
   "metadata": {},
   "outputs": [],
   "source": [
    "pop_mean = 100           # Average visitors ( Population mean )\n",
    "pop_sd = 15              # Population standard deviation"
   ]
  },
  {
   "cell_type": "code",
   "execution_count": 70,
   "id": "3b445c60-ccba-43cd-8944-9bff7b36568d",
   "metadata": {},
   "outputs": [],
   "source": [
    "# recent 40 days visitors count\n",
    "visitors = [117, 119, 132, 106, 106, 133, 121, 102, 118,\n",
    "            103, 103, 113, 81, 84, 101, 94, 114, 96, 88,\n",
    "            131, 106, 111, 88, 101, 111, 92, 115, 100, 105,\n",
    "            100, 137, 109, 94, 122, 91, 113, 80, 90, 112 ]"
   ]
  },
  {
   "cell_type": "code",
   "execution_count": 71,
   "id": "456275bb-e880-4a43-996a-cbdc75b74e47",
   "metadata": {},
   "outputs": [],
   "source": [
    "# create dataframe\n",
    "\n",
    "df = pd.DataFrame({ \"visitors\" : visitors})"
   ]
  },
  {
   "cell_type": "markdown",
   "id": "65f2478a-87db-48f4-a126-bef132988154",
   "metadata": {},
   "source": [
    "# **Function to perform Z-Test**"
   ]
  },
  {
   "attachments": {
    "5615f994-cabc-4be5-9960-b3b16a5d1a81.png": {
     "image/png": "[encoded data removed]"
    }
   },
   "cell_type": "markdown",
   "id": "e87eab5b-093e-4ccd-9c6c-b16990bc8c0d",
   "metadata": {},
   "source": [
    "![image.png](attachment:5615f994-cabc-4be5-9960-b3b16a5d1a81.png)"
   ]
  },
  {
   "cell_type": "code",
   "execution_count": 72,
   "id": "e30aaa35-9af0-46ed-bbd8-926f658df093",
   "metadata": {},
   "outputs": [],
   "source": [
    "#z = (sample_mean pop_mean) / (pop_sd / sqrt(sample_size))\n",
    "\n",
    "def z_test(data, pop_mean, pop_sd):\n",
    "    sample_mean = data.mean()\n",
    "    sample_size = len(data)\n",
    "    z_score = (sample_mean - pop_mean) / (pop_sd / np.sqrt(sample_size))\n",
    "    p_value = 2 * (1 - stats.norm.cdf(np.abs(z_score)))\n",
    "    return z_score, p_value"
   ]
  },
  {
   "cell_type": "code",
   "execution_count": 73,
   "id": "b9a02099-0c48-4a62-9587-4734f5efd198",
   "metadata": {},
   "outputs": [],
   "source": [
    "# perform Z-Test\n",
    "\n",
    "z_score, p_value = z_test(df['visitors'], pop_mean, pop_sd)"
   ]
  },
  {
   "cell_type": "code",
   "execution_count": 74,
   "id": "4fe98ee6-aa32-4173-8667-3cc6c974dbe8",
   "metadata": {},
   "outputs": [
    {
     "name": "stdout",
     "output_type": "stream",
     "text": [
      "Z - Score: 2.55137525062772\n",
      "P - Value: 0.010729872895687054\n"
     ]
    }
   ],
   "source": [
    "print(f\"Z - Score: {z_score}\")\n",
    "print(f\"P - Value: {p_value}\")"
   ]
  },
  {
   "cell_type": "markdown",
   "id": "847838e2-81a6-4733-862c-5173898b3500",
   "metadata": {},
   "source": [
    "## **Conclusion**"
   ]
  },
  {
   "cell_type": "code",
   "execution_count": 75,
   "id": "7a54f63c-529c-4b56-9911-0f753b78e9bc",
   "metadata": {},
   "outputs": [],
   "source": [
    "alpha = 0.05"
   ]
  },
  {
   "cell_type": "code",
   "execution_count": 76,
   "id": "969b7886-3d8d-459f-921c-eedc3ef73c63",
   "metadata": {},
   "outputs": [
    {
     "name": "stdout",
     "output_type": "stream",
     "text": [
      "Reject the null hypothesis: \n",
      "The average no of visitors for the sample period is significantly different from the known average.\n"
     ]
    }
   ],
   "source": [
    "if p_value < alpha:\n",
    "    print(\"Reject the null hypothesis: \\nThe average no of visitors for the sample period is significantly different from the known average.\")\n",
    "\n",
    "else:\n",
    "    print(\"Fail to reject the null hypothesis: \\nThe average no of visitors for the sample period is not significantly different from the known average.\")"
   ]
  },
  {
   "cell_type": "code",
   "execution_count": null,
   "id": "c6628e21-185c-404c-9675-22131d77db31",
   "metadata": {},
   "outputs": [],
   "source": []
  },
  {
   "cell_type": "code",
   "execution_count": null,
   "id": "636f6e4b-1dd2-4d22-abce-98c0f8391c8f",
   "metadata": {},
   "outputs": [],
   "source": []
  },
  {
   "cell_type": "markdown",
   "id": "2842125b-23aa-4d04-9a22-d2d7f0e61594",
   "metadata": {},
   "source": [
    "## **Why the Null Hypothesis is Rejected**\n",
    "\n",
    "If the z-score calculated from your sample data is sufficiently large (either positive or negative), it indicates that the sample mean is far from the hypothesized mean, leading to a low p-value. In this case, the low p-value suggests that the observed difference between the sample mean and the population mean is unlikely to have occurred by random chance, hence the rejection of the null hypothesis. <br> <br>\n",
    "\n",
    "**For example** if the average number of visitors over the 40 days was significantly higher or lower than 100, the z-test would produce a high z-score and a low p-value, leading to rejection of the null hypothesis."
   ]
  },
  {
   "cell_type": "code",
   "execution_count": null,
   "id": "17b8fde2-3d5c-4495-b26d-7ea4c806fa7c",
   "metadata": {},
   "outputs": [],
   "source": []
  },
  {
   "cell_type": "code",
   "execution_count": null,
   "id": "fa394ba0-9143-4776-a3bf-a1623c6e4464",
   "metadata": {},
   "outputs": [],
   "source": []
  },
  {
   "cell_type": "markdown",
   "id": "2fc8bba0-b4d7-411c-a5c3-abde6b1e4efc",
   "metadata": {},
   "source": [
    "# **Two Sample Z-Test**"
   ]
  },
  {
   "cell_type": "markdown",
   "id": "f859cd3b-2e2b-451e-aad4-3e5811c53842",
   "metadata": {},
   "source": [
    "Suppose an e-commerce platform runs two different campaigns to drive traffic to their website. We want to test if there is a significant difference in the average number of daily visitors between the two campaigns. <br>\n",
    "**• Null Hypothesis (HO):** There is no significant difference in the average number of daily\n",
    "visitors between the two campaigns. I.e. µ₁ = με <br>\n",
    "**• Alternative Hypothesis (HA):** There is a significant difference in the average number of daily visitors between the two campaigns. i.e. μι ≠ με"
   ]
  },
  {
   "attachments": {
    "bab7fb74-cadb-4668-8a61-6675db8346ca.png": {
     "image/png": "[encoded data removed]"
    }
   },
   "cell_type": "markdown",
   "id": "e43057f5-13b0-48e3-aefa-6ddf314ea5d9",
   "metadata": {},
   "source": [
    "![image.png](attachment:bab7fb74-cadb-4668-8a61-6675db8346ca.png)"
   ]
  },
  {
   "cell_type": "code",
   "execution_count": 77,
   "id": "308ca698-7a97-42ba-93fb-50d8099f66a6",
   "metadata": {},
   "outputs": [],
   "source": [
    "import numpy as np\n",
    "import pandas as pd\n",
    "from scipy import stats"
   ]
  },
  {
   "cell_type": "code",
   "execution_count": 78,
   "id": "1f68a935-9fb4-420b-b8c3-48e653955ca4",
   "metadata": {},
   "outputs": [],
   "source": [
    "# Sample data for the two campaigns\n",
    "\n",
    "campaign1_data = [157,147,159,172,146,146,173,161,142,158,\n",
    "                  143,143,153,121,124,141,134,154,136,128,\n",
    "                  171,146,151,128,141,151,132,155,140,145,\n",
    "                  140,177,149,134,162,131,153,120,130,152]\n",
    "\n",
    "campaign2_data = [178,167,181,195,166,166,196,183,162,179,\n",
    "                  162,162,174,137,140,160,152,175,154,145,\n",
    "                  194,166,171,145,160,171,150,176,159,165,\n",
    "                  159,201,169,152,183,149,173,136,147,173]"
   ]
  },
  {
   "cell_type": "code",
   "execution_count": 79,
   "id": "b3f01818-2279-4d05-adfe-84a20db779fa",
   "metadata": {},
   "outputs": [],
   "source": [
    "# Convert Data to dataframe\n",
    "\n",
    "df_camp1 = pd.DataFrame({\"visitors\": campaign1_data})\n",
    "df_camp2 = pd.DataFrame({\"visitors\": campaign2_data})"
   ]
  },
  {
   "cell_type": "code",
   "execution_count": 80,
   "id": "e93007ba-fe41-4e7f-a329-d604411d861e",
   "metadata": {},
   "outputs": [],
   "source": [
    "# Campaign 1 parameter (mean, std, sample size)\n",
    "\n",
    "camp1_mean = df_camp1['visitors'].mean()\n",
    "camp1_std = df_camp1['visitors'].std()\n",
    "n1 = len(df_camp1)"
   ]
  },
  {
   "cell_type": "code",
   "execution_count": 81,
   "id": "8b82c84c-9f4c-4d71-ab4a-c5d907917bb7",
   "metadata": {},
   "outputs": [],
   "source": [
    "# Campaign 2 parameter (mean, std, sample size)\n",
    "\n",
    "camp2_mean = df_camp2['visitors'].mean()\n",
    "camp2_std = df_camp2['visitors'].std()\n",
    "n2 = len(df_camp2)"
   ]
  },
  {
   "cell_type": "code",
   "execution_count": 82,
   "id": "84ac5418-e109-4c05-a8d1-d02cb64065c0",
   "metadata": {},
   "outputs": [],
   "source": [
    "# Z-score  = ( sample1_mean - sample2_mean ) / sqrt( ( sample1_std / n1 ) + ( sample2_std / n2 ))\n",
    "\n",
    "z_score = ( camp1_mean - camp2_mean ) / np.sqrt((( camp1_std ** 2) / n1 ) + ( camp2_std ** 2 ) / n2)"
   ]
  },
  {
   "cell_type": "code",
   "execution_count": 83,
   "id": "ec50fd62-86ca-40a4-9a0d-76efad28f476",
   "metadata": {},
   "outputs": [],
   "source": [
    "# P - Value\n",
    "\n",
    "p_value = 2 * (1 - stats.norm.cdf(np.abs(z_score)))"
   ]
  },
  {
   "cell_type": "code",
   "execution_count": 84,
   "id": "a01f9e13-8dad-4b63-bd47-bd3179e37ca4",
   "metadata": {},
   "outputs": [
    {
     "name": "stdout",
     "output_type": "stream",
     "text": [
      "Campaign 1 mean: 146.15\n",
      "Campaign 2 mean: 165.825\n",
      "Z - Score: -5.771857099686556\n",
      "P - Value: 7.840259330649246e-09\n"
     ]
    }
   ],
   "source": [
    "print(f\"Campaign 1 mean: {camp1_mean}\")\n",
    "print(f\"Campaign 2 mean: {camp2_mean}\")\n",
    "print(f\"Z - Score: {z_score}\")\n",
    "print(f\"P - Value: {p_value}\")"
   ]
  },
  {
   "cell_type": "code",
   "execution_count": 85,
   "id": "4dbf65db-1fa2-4c46-b9d1-76f155b0439c",
   "metadata": {},
   "outputs": [],
   "source": [
    "alpha = 0.05"
   ]
  },
  {
   "cell_type": "code",
   "execution_count": 86,
   "id": "b7f6fed3-ea2f-4652-afe3-1272fb3a470e",
   "metadata": {},
   "outputs": [
    {
     "name": "stdout",
     "output_type": "stream",
     "text": [
      "Reject the null hypothesis: \n",
      "There is a significant difference in the average no of daily visitors beetween the two campaigns.\n"
     ]
    }
   ],
   "source": [
    "if p_value < alpha:\n",
    "    print(\"Reject the null hypothesis: \\nThere is a significant difference in the average no of daily visitors beetween the two campaigns.\")\n",
    "\n",
    "else:\n",
    "    print(\"Fail to reject the null hypothesis: \\nThere is a significant difference in the average no of daily visitors beetween the two campaigns.\")"
   ]
  },
  {
   "cell_type": "code",
   "execution_count": null,
   "id": "b3637446-bedc-472f-9017-5ebc8e0c4daf",
   "metadata": {},
   "outputs": [],
   "source": []
  },
  {
   "cell_type": "code",
   "execution_count": null,
   "id": "cc8a1bf5-2d54-4159-85eb-cf71662987d1",
   "metadata": {},
   "outputs": [],
   "source": []
  },
  {
   "cell_type": "markdown",
   "id": "4ce9ab47-4d8a-44c1-b106-87bcace6e61d",
   "metadata": {},
   "source": [
    "## **Why the Null Hypothesis is Rejected:**\n",
    "\n",
    "The null hypothesis is rejected because the z-test has shown that the difference between the means of the two campaigns is statistically significant. This means the observed difference in the number of visitors between Campaign 1 and Campaign 2 is too large to be attributed to random variation, implying that one campaign is more effective than the other."
   ]
  },
  {
   "cell_type": "code",
   "execution_count": null,
   "id": "c9a441c1-fb13-4772-85aa-ad6ea762f7a7",
   "metadata": {},
   "outputs": [],
   "source": []
  },
  {
   "cell_type": "code",
   "execution_count": null,
   "id": "c5989ab9-629e-4fab-8d9c-5157fb3e3dcd",
   "metadata": {},
   "outputs": [],
   "source": []
  },
  {
   "cell_type": "markdown",
   "id": "14876e41-c8c1-4439-be2e-5ab2d48d4948",
   "metadata": {},
   "source": [
    "# **One sample T-Test**"
   ]
  },
  {
   "cell_type": "markdown",
   "id": "0eab1e11-7178-435a-a158-04adbc2da528",
   "metadata": {},
   "source": [
    "**Example:** An eComm platform believes that the average number of daily visitors is 150. Test if the average number of visitors for a sample of 20 days is significantly different from this value. <br>\n",
    "**• HO:** The sample mean is not significantly different from the population mean. <br>\n",
    "**• HA:** The sample mean is significantly different from the population mean"
   ]
  },
  {
   "attachments": {
    "4ea1cd4b-a78d-4ffc-a899-c3f564226c7a.png": {
     "image/png": "[encoded data removed]"
    }
   },
   "cell_type": "markdown",
   "id": "d661a1f0-de33-42de-85f6-c071955f05d1",
   "metadata": {},
   "source": [
    "![image.png](attachment:4ea1cd4b-a78d-4ffc-a899-c3f564226c7a.png)"
   ]
  },
  {
   "cell_type": "code",
   "execution_count": 87,
   "id": "7d9b5135-28f3-437b-ba02-3ba191098d60",
   "metadata": {},
   "outputs": [],
   "source": [
    "#Number of visitors for 28 days\n",
    "visitors = [157, 147, 159, 172, 146, 146, 173, 161, 142, 158,\n",
    "            143, 143, 153, 121, 124, 141, 134, 154, 136, 128]"
   ]
  },
  {
   "cell_type": "code",
   "execution_count": 88,
   "id": "23b961b4-fc58-43a8-b630-c3c7b701750c",
   "metadata": {},
   "outputs": [],
   "source": [
    "# population mean\n",
    "pop_mean = 150\n",
    "t_score, p_value = stats.ttest_1samp(visitors, popmean=pop_mean)"
   ]
  },
  {
   "cell_type": "code",
   "execution_count": 89,
   "id": "3b8b1f66-3ff6-4ae1-a76e-021966599858",
   "metadata": {},
   "outputs": [
    {
     "name": "stdout",
     "output_type": "stream",
     "text": [
      "T-Statistics: -0.9679294783122818\n",
      "P-Value: 0.34524012885098876\n"
     ]
    }
   ],
   "source": [
    "print(f\"T-Statistics: {t_score}\")\n",
    "print(f\"P-Value: {p_value}\")"
   ]
  },
  {
   "cell_type": "code",
   "execution_count": 90,
   "id": "7637bc27-652a-4065-b457-69f053db7569",
   "metadata": {},
   "outputs": [],
   "source": [
    "alpha = 0.05"
   ]
  },
  {
   "cell_type": "code",
   "execution_count": 91,
   "id": "d0d05c4e-df2d-4961-af94-1e63f2fd58c3",
   "metadata": {},
   "outputs": [
    {
     "name": "stdout",
     "output_type": "stream",
     "text": [
      "Fail to reject the null hypothesis\n"
     ]
    }
   ],
   "source": [
    "if p_value < alpha:\n",
    "    print(\"Reject the null hypothesis\")\n",
    "\n",
    "else:\n",
    "    print(\"Fail to reject the null hypothesis\")"
   ]
  },
  {
   "cell_type": "code",
   "execution_count": null,
   "id": "fe803655-a55e-4fdb-bd77-5eef39f45232",
   "metadata": {},
   "outputs": [],
   "source": []
  },
  {
   "cell_type": "code",
   "execution_count": null,
   "id": "c77e0625-569e-47ee-aa3b-a61c093c52f2",
   "metadata": {},
   "outputs": [],
   "source": []
  },
  {
   "cell_type": "markdown",
   "id": "6e298e50-cc71-4edd-b2e9-28b51edecee2",
   "metadata": {},
   "source": [
    "## **Why the Null Hypothesis is Not Rejected:** \n",
    "\n",
    "    Insufficient Evidence: The t-test results (p-value) suggest that any observed difference between the sample mean and the population mean could plausibly occur due to random variation. The sample mean is not significantly different from the hypothesized population mean.\n",
    "\n",
    "    Small Effect Size: The difference between the sample mean and the population mean might be too small to be detected as statistically significant, given the sample size and variability in the data.\n",
    "\n",
    "The failure to reject the null hypothesis means that, based on the data from the 28 days, there isn't enough evidence to conclude that the average number of visitors is significantly different from the hypothesized population mean of 150 visitors per day."
   ]
  },
  {
   "cell_type": "code",
   "execution_count": null,
   "id": "d4bdd509-c80b-4714-9c22-020104a053ba",
   "metadata": {},
   "outputs": [],
   "source": []
  },
  {
   "cell_type": "code",
   "execution_count": null,
   "id": "2c9821ec-183c-423c-9f0b-5dfaba3845c5",
   "metadata": {},
   "outputs": [],
   "source": []
  },
  {
   "cell_type": "markdown",
   "id": "81c8b13d-beee-4892-98a9-bd73b6f3ecc7",
   "metadata": {},
   "source": [
    "# **Two Sample T-Test**"
   ]
  },
  {
   "cell_type": "markdown",
   "id": "a8e15318-7e39-43c9-82b5-29640adb9a8d",
   "metadata": {},
   "source": [
    "Example: A dataset contains Male and Female students marks. We need to test the means marks of Male students are not equal to Female students <br>\n",
    "• HO: The means of Marks for Male and Female students are equal <br>\n",
    "• HA: The means of Marks for Male and Female students are not equal"
   ]
  },
  {
   "attachments": {
    "4ce7915c-e389-4e8e-96cf-4f4efedd502b.png": {
     "image/png": "[encoded data removed]"
    }
   },
   "cell_type": "markdown",
   "id": "c7639df5-97a8-4bf1-82df-37ee5b92119f",
   "metadata": {},
   "source": [
    "![image.png](attachment:4ce7915c-e389-4e8e-96cf-4f4efedd502b.png)"
   ]
  },
  {
   "cell_type": "code",
   "execution_count": 92,
   "id": "2b55a9e4-0ade-4da6-80c3-4b967d057788",
   "metadata": {},
   "outputs": [],
   "source": [
    "data = {\n",
    "    'Gender': ['Female', 'Male', 'Female', 'Female', 'Male', 'Male', 'Male', 'Male', 'Female', 'Female', \n",
    "               'Male', 'Male', 'Female', 'Male', 'Female', 'Female', 'Female', 'Male', 'Male', 'Female', \n",
    "               'Female', 'Male', 'Male', 'Male', 'Male', 'Female', 'Female', 'Male', 'Male', 'Male', \n",
    "               'Female', 'Female', 'Female', 'Female', 'Female', 'Male', 'Male', 'Female', 'Female', 'Male'],\n",
    "    'Marks': [77, 89, 89, 91, 76, 85, 79, 78, 93, 88, 91, 77, 81, 88, 86, 88, 82, 95, 87, 83, 79, \n",
    "              94, 84, 73, 85, 85, 78, 88, 81, 82, 84, 86, 75, 83, 87, 88, 90, 90, 92, 92]\n",
    "}\n"
   ]
  },
  {
   "cell_type": "code",
   "execution_count": 93,
   "id": "7692ee78-3199-405a-b028-a9a2f97e0a94",
   "metadata": {},
   "outputs": [],
   "source": [
    "df = pd.DataFrame(data)"
   ]
  },
  {
   "cell_type": "code",
   "execution_count": 94,
   "id": "9d390879-2ff2-455a-8f36-db1f8367aa1d",
   "metadata": {},
   "outputs": [
    {
     "data": {
      "text/html": [
       "<div>\n",
       "<style scoped>\n",
       "    .dataframe tbody tr th:only-of-type {\n",
       "        vertical-align: middle;\n",
       "    }\n",
       "\n",
       "    .dataframe tbody tr th {\n",
       "        vertical-align: top;\n",
       "    }\n",
       "\n",
       "    .dataframe thead th {\n",
       "        text-align: right;\n",
       "    }\n",
       "</style>\n",
       "<table border=\"1\" class=\"dataframe\">\n",
       "  <thead>\n",
       "    <tr style=\"text-align: right;\">\n",
       "      <th></th>\n",
       "      <th>Gender</th>\n",
       "      <th>Marks</th>\n",
       "    </tr>\n",
       "  </thead>\n",
       "  <tbody>\n",
       "    <tr>\n",
       "      <th>0</th>\n",
       "      <td>Female</td>\n",
       "      <td>77</td>\n",
       "    </tr>\n",
       "    <tr>\n",
       "      <th>1</th>\n",
       "      <td>Male</td>\n",
       "      <td>89</td>\n",
       "    </tr>\n",
       "    <tr>\n",
       "      <th>2</th>\n",
       "      <td>Female</td>\n",
       "      <td>89</td>\n",
       "    </tr>\n",
       "    <tr>\n",
       "      <th>3</th>\n",
       "      <td>Female</td>\n",
       "      <td>91</td>\n",
       "    </tr>\n",
       "    <tr>\n",
       "      <th>4</th>\n",
       "      <td>Male</td>\n",
       "      <td>76</td>\n",
       "    </tr>\n",
       "    <tr>\n",
       "      <th>5</th>\n",
       "      <td>Male</td>\n",
       "      <td>85</td>\n",
       "    </tr>\n",
       "    <tr>\n",
       "      <th>6</th>\n",
       "      <td>Male</td>\n",
       "      <td>79</td>\n",
       "    </tr>\n",
       "    <tr>\n",
       "      <th>7</th>\n",
       "      <td>Male</td>\n",
       "      <td>78</td>\n",
       "    </tr>\n",
       "    <tr>\n",
       "      <th>8</th>\n",
       "      <td>Female</td>\n",
       "      <td>93</td>\n",
       "    </tr>\n",
       "    <tr>\n",
       "      <th>9</th>\n",
       "      <td>Female</td>\n",
       "      <td>88</td>\n",
       "    </tr>\n",
       "    <tr>\n",
       "      <th>10</th>\n",
       "      <td>Male</td>\n",
       "      <td>91</td>\n",
       "    </tr>\n",
       "    <tr>\n",
       "      <th>11</th>\n",
       "      <td>Male</td>\n",
       "      <td>77</td>\n",
       "    </tr>\n",
       "    <tr>\n",
       "      <th>12</th>\n",
       "      <td>Female</td>\n",
       "      <td>81</td>\n",
       "    </tr>\n",
       "    <tr>\n",
       "      <th>13</th>\n",
       "      <td>Male</td>\n",
       "      <td>88</td>\n",
       "    </tr>\n",
       "    <tr>\n",
       "      <th>14</th>\n",
       "      <td>Female</td>\n",
       "      <td>86</td>\n",
       "    </tr>\n",
       "    <tr>\n",
       "      <th>15</th>\n",
       "      <td>Female</td>\n",
       "      <td>88</td>\n",
       "    </tr>\n",
       "    <tr>\n",
       "      <th>16</th>\n",
       "      <td>Female</td>\n",
       "      <td>82</td>\n",
       "    </tr>\n",
       "    <tr>\n",
       "      <th>17</th>\n",
       "      <td>Male</td>\n",
       "      <td>95</td>\n",
       "    </tr>\n",
       "    <tr>\n",
       "      <th>18</th>\n",
       "      <td>Male</td>\n",
       "      <td>87</td>\n",
       "    </tr>\n",
       "    <tr>\n",
       "      <th>19</th>\n",
       "      <td>Female</td>\n",
       "      <td>83</td>\n",
       "    </tr>\n",
       "    <tr>\n",
       "      <th>20</th>\n",
       "      <td>Female</td>\n",
       "      <td>79</td>\n",
       "    </tr>\n",
       "    <tr>\n",
       "      <th>21</th>\n",
       "      <td>Male</td>\n",
       "      <td>94</td>\n",
       "    </tr>\n",
       "    <tr>\n",
       "      <th>22</th>\n",
       "      <td>Male</td>\n",
       "      <td>84</td>\n",
       "    </tr>\n",
       "    <tr>\n",
       "      <th>23</th>\n",
       "      <td>Male</td>\n",
       "      <td>73</td>\n",
       "    </tr>\n",
       "    <tr>\n",
       "      <th>24</th>\n",
       "      <td>Male</td>\n",
       "      <td>85</td>\n",
       "    </tr>\n",
       "    <tr>\n",
       "      <th>25</th>\n",
       "      <td>Female</td>\n",
       "      <td>85</td>\n",
       "    </tr>\n",
       "    <tr>\n",
       "      <th>26</th>\n",
       "      <td>Female</td>\n",
       "      <td>78</td>\n",
       "    </tr>\n",
       "    <tr>\n",
       "      <th>27</th>\n",
       "      <td>Male</td>\n",
       "      <td>88</td>\n",
       "    </tr>\n",
       "    <tr>\n",
       "      <th>28</th>\n",
       "      <td>Male</td>\n",
       "      <td>81</td>\n",
       "    </tr>\n",
       "    <tr>\n",
       "      <th>29</th>\n",
       "      <td>Male</td>\n",
       "      <td>82</td>\n",
       "    </tr>\n",
       "    <tr>\n",
       "      <th>30</th>\n",
       "      <td>Female</td>\n",
       "      <td>84</td>\n",
       "    </tr>\n",
       "    <tr>\n",
       "      <th>31</th>\n",
       "      <td>Female</td>\n",
       "      <td>86</td>\n",
       "    </tr>\n",
       "    <tr>\n",
       "      <th>32</th>\n",
       "      <td>Female</td>\n",
       "      <td>75</td>\n",
       "    </tr>\n",
       "    <tr>\n",
       "      <th>33</th>\n",
       "      <td>Female</td>\n",
       "      <td>83</td>\n",
       "    </tr>\n",
       "    <tr>\n",
       "      <th>34</th>\n",
       "      <td>Female</td>\n",
       "      <td>87</td>\n",
       "    </tr>\n",
       "    <tr>\n",
       "      <th>35</th>\n",
       "      <td>Male</td>\n",
       "      <td>88</td>\n",
       "    </tr>\n",
       "    <tr>\n",
       "      <th>36</th>\n",
       "      <td>Male</td>\n",
       "      <td>90</td>\n",
       "    </tr>\n",
       "    <tr>\n",
       "      <th>37</th>\n",
       "      <td>Female</td>\n",
       "      <td>90</td>\n",
       "    </tr>\n",
       "    <tr>\n",
       "      <th>38</th>\n",
       "      <td>Female</td>\n",
       "      <td>92</td>\n",
       "    </tr>\n",
       "    <tr>\n",
       "      <th>39</th>\n",
       "      <td>Male</td>\n",
       "      <td>92</td>\n",
       "    </tr>\n",
       "  </tbody>\n",
       "</table>\n",
       "</div>"
      ],
      "text/plain": [
       "    Gender  Marks\n",
       "0   Female     77\n",
       "1     Male     89\n",
       "2   Female     89\n",
       "3   Female     91\n",
       "4     Male     76\n",
       "5     Male     85\n",
       "6     Male     79\n",
       "7     Male     78\n",
       "8   Female     93\n",
       "9   Female     88\n",
       "10    Male     91\n",
       "11    Male     77\n",
       "12  Female     81\n",
       "13    Male     88\n",
       "14  Female     86\n",
       "15  Female     88\n",
       "16  Female     82\n",
       "17    Male     95\n",
       "18    Male     87\n",
       "19  Female     83\n",
       "20  Female     79\n",
       "21    Male     94\n",
       "22    Male     84\n",
       "23    Male     73\n",
       "24    Male     85\n",
       "25  Female     85\n",
       "26  Female     78\n",
       "27    Male     88\n",
       "28    Male     81\n",
       "29    Male     82\n",
       "30  Female     84\n",
       "31  Female     86\n",
       "32  Female     75\n",
       "33  Female     83\n",
       "34  Female     87\n",
       "35    Male     88\n",
       "36    Male     90\n",
       "37  Female     90\n",
       "38  Female     92\n",
       "39    Male     92"
      ]
     },
     "execution_count": 94,
     "metadata": {},
     "output_type": "execute_result"
    }
   ],
   "source": [
    "df"
   ]
  },
  {
   "cell_type": "code",
   "execution_count": 95,
   "id": "689b759b-1066-44b6-a44f-b9ed710528e4",
   "metadata": {},
   "outputs": [],
   "source": [
    "male_marks = df[df['Gender'] == 'Male']['Marks']\n",
    "female_marks = df[df['Gender'] == 'Female']['Marks']"
   ]
  },
  {
   "cell_type": "code",
   "execution_count": 96,
   "id": "20c22a54-74aa-46b0-ab7b-0ea277e989c0",
   "metadata": {},
   "outputs": [],
   "source": [
    "t_statistic, p_value = stats.ttest_ind(male_marks, female_marks)"
   ]
  },
  {
   "cell_type": "code",
   "execution_count": 97,
   "id": "80b84c1b-bc38-4945-9867-38f875d4e879",
   "metadata": {},
   "outputs": [
    {
     "name": "stdout",
     "output_type": "stream",
     "text": [
      "T-Statistics: 0.13871155690189338\n",
      "P-Value: 0.89041059197865\n"
     ]
    }
   ],
   "source": [
    "print(f\"T-Statistics: {t_statistic}\")\n",
    "print(f\"P-Value: {p_value}\")"
   ]
  },
  {
   "cell_type": "code",
   "execution_count": 98,
   "id": "45730be4-1d5e-47b5-b06c-30c69ad62f5a",
   "metadata": {},
   "outputs": [],
   "source": [
    "alpha = 0.05"
   ]
  },
  {
   "cell_type": "code",
   "execution_count": 99,
   "id": "ab9fb1e2-9e68-42ba-875a-66f325c5a497",
   "metadata": {},
   "outputs": [
    {
     "name": "stdout",
     "output_type": "stream",
     "text": [
      "Fail to reject the null hypothesis: \n",
      "There is a significant difference in the mean of marks for males and female.\n"
     ]
    }
   ],
   "source": [
    "if p_value < alpha:\n",
    "    print(\"Reject the null hypothesis: \\nThere is a significant difference in the mean of marks for males and female.\")\n",
    "\n",
    "else:\n",
    "    print(\"Fail to reject the null hypothesis: \\nThere is a significant difference in the mean of marks for males and female.\")"
   ]
  },
  {
   "cell_type": "code",
   "execution_count": null,
   "id": "e21a0ca5-f223-4817-88e1-e7ec1ab7859d",
   "metadata": {},
   "outputs": [],
   "source": []
  },
  {
   "cell_type": "code",
   "execution_count": null,
   "id": "c95a8894-63d1-4ee9-8ecf-0d0f0e7c7e6c",
   "metadata": {},
   "outputs": [],
   "source": []
  },
  {
   "cell_type": "markdown",
   "id": "7f7c2af7-7351-4939-a3be-c04074d4c198",
   "metadata": {},
   "source": [
    "## **Why the Null Hypothesis is failed to Reject:**\n",
    "\n",
    "**Small Effect Size:** The difference in average marks between males and females might be too small to be detected as statistically significant given the sample size and variability.<br>\n",
    "\n",
    "**Sample Variability:** If the marks within each gender group have a high degree of variability, this can obscure any real difference in the means.<br>\n",
    "\n",
    "**Sample Size:** If the sample size is not large enough, the test might not have enough power to detect a small but significant difference."
   ]
  },
  {
   "cell_type": "code",
   "execution_count": null,
   "id": "379cf567-946b-4eef-a1fa-29b17edcdcd6",
   "metadata": {},
   "outputs": [],
   "source": []
  },
  {
   "cell_type": "code",
   "execution_count": null,
   "id": "2b47d9ea-8e86-4662-8a3e-9e531bc1a6bc",
   "metadata": {},
   "outputs": [],
   "source": []
  },
  {
   "cell_type": "markdown",
   "id": "d3f0e1a2-0312-493e-abee-f877f5764112",
   "metadata": {},
   "source": [
    "# **Paired T-Test**"
   ]
  },
  {
   "cell_type": "markdown",
   "id": "4741f065-4012-4bb7-8f0c-d1a3691a7245",
   "metadata": {},
   "source": [
    "Let’s say you have data on the number of visitors to your e-commerce platform on 20 days before and after a marketing campaign, and you want to know if the campaign had a significant effect on the number of visitors. <br>\n",
    "**Data:**<br> <br>\n",
    "\n",
    "    Before the Campaign (visitors_before):\n",
    "    157, 147, 159, 172, 146, 146, 173, 161, 142, 158, 143, 143, 153, 121, 124, 141, 134, 154, 136, 128\n",
    "\n",
    "    After the Campaign (visitors_after):\n",
    "    162, 150, 163, 178, 149, 150, 179, 167, 145, 162, 148, 147, 159, 127, 130, 147, 140, 160, 141, 135\n",
    "\n",
    "**Hypotheses:**\n",
    "\n",
    "    H0H0​ (Null Hypothesis): The mean difference between the before and after campaign visitors is zero (no effect).\n",
    "    H1H1​ (Alternative Hypothesis): The mean difference between the before and after campaign visitors is not zero (there is an effect)."
   ]
  },
  {
   "attachments": {
    "43999728-f5d1-4c3f-8ac8-e5f20f5fb473.png": {
     "image/png": "[encoded data removed]"
    }
   },
   "cell_type": "markdown",
   "id": "cd5a72a2-4d51-4e80-983f-616f2574d7ab",
   "metadata": {},
   "source": [
    "![image.png](attachment:43999728-f5d1-4c3f-8ac8-e5f20f5fb473.png)\n",
    "\n",
    "\n",
    "\n",
    "Where:\n",
    "\n",
    "    Dˉ = mean of the differences between paired observations\n",
    "    sD = standard deviation of the differences\n",
    "    nn = number of pairs"
   ]
  },
  {
   "cell_type": "code",
   "execution_count": 100,
   "id": "656134c2-3e57-418c-9364-6dbbc95c065a",
   "metadata": {},
   "outputs": [],
   "source": [
    "visitors_before = [157, 147, 159, 172, 146, 146, 173, 161, 142, 158, 143, 143, 153, 121, 124, 141, 134, 154, 136, 128]\n",
    "visitors_after = [162, 150, 163, 178, 149, 150, 179, 167, 145, 162, 148, 147, 159, 127, 130, 147, 140, 160, 141, 135]"
   ]
  },
  {
   "cell_type": "code",
   "execution_count": 101,
   "id": "0971412d-e70c-45d8-acb6-f32e44eaa6df",
   "metadata": {},
   "outputs": [],
   "source": [
    "# Perform paired t-test\n",
    "\n",
    "t_score, p_value = stats.ttest_rel(visitors_after, visitors_before)"
   ]
  },
  {
   "cell_type": "code",
   "execution_count": 102,
   "id": "c39d0a2b-3848-4c2b-9454-78954e9cb2d1",
   "metadata": {},
   "outputs": [
    {
     "name": "stdout",
     "output_type": "stream",
     "text": [
      "T-Statistic: 18.296115464910958\n",
      "P-Value: 1.5967643663411888e-13\n"
     ]
    }
   ],
   "source": [
    "print(f\"T-Statistic: {t_score}\")\n",
    "print(f\"P-Value: {p_value}\")"
   ]
  },
  {
   "cell_type": "code",
   "execution_count": 103,
   "id": "610f52db-4009-4075-ad15-aec737098289",
   "metadata": {},
   "outputs": [],
   "source": [
    "alpha = 0.05"
   ]
  },
  {
   "cell_type": "code",
   "execution_count": 104,
   "id": "041433dc-5f90-405d-9fe1-bbcf9039f82d",
   "metadata": {},
   "outputs": [
    {
     "name": "stdout",
     "output_type": "stream",
     "text": [
      "Reject the null hypothesis\n"
     ]
    }
   ],
   "source": [
    "if p_value < alpha:\n",
    "    print(\"Reject the null hypothesis\")\n",
    "else:\n",
    "    print(\"Fail to reject the null hypothesis\")"
   ]
  },
  {
   "cell_type": "code",
   "execution_count": null,
   "id": "2e108ac6-0725-47d2-b863-21aae9e4461f",
   "metadata": {},
   "outputs": [],
   "source": []
  },
  {
   "cell_type": "code",
   "execution_count": null,
   "id": "012f689a-4816-4a10-992d-030d29144eef",
   "metadata": {},
   "outputs": [],
   "source": []
  },
  {
   "cell_type": "markdown",
   "id": "974c61f3-c006-430a-a7a5-5ef196647a66",
   "metadata": {},
   "source": [
    "## **Why the Null Hypothesis is Rejected:**\n",
    "\n",
    "**Significant Difference:** The calculated t-statistic would have been large enough, and the corresponding p-value small enough (typically less than 0.05), to conclude that the observed difference between the means is unlikely to be due to random chance.<br>\n",
    "\n",
    "**Increase in Visitors:** If the visitors' counts after the campaign are consistently higher than before, the average difference (after - before) would be positive, leading to a t-statistic that supports rejecting the null hypothesis. <br>\n",
    "\n",
    "**Statistical Evidence:** The rejection of the null hypothesis means there is sufficient statistical evidence to conclude that the campaign had a significant effect on increasing the number of visitors to the website."
   ]
  },
  {
   "cell_type": "code",
   "execution_count": null,
   "id": "fade0a06-db31-484d-b872-c92cb5629fcb",
   "metadata": {},
   "outputs": [],
   "source": []
  }
 ],
 "metadata": {
  "kernelspec": {
   "display_name": "Python 3 (ipykernel)",
   "language": "python",
   "name": "python3"
  },
  "language_info": {
   "codemirror_mode": {
    "name": "ipython",
    "version": 3
   },
   "file_extension": ".py",
   "mimetype": "text/x-python",
   "name": "python",
   "nbconvert_exporter": "python",
   "pygments_lexer": "ipython3",
   "version": "3.12.4"
  }
 },
 "nbformat": 4,
 "nbformat_minor": 5
}
